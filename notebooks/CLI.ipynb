{
 "cells": [
  {
   "cell_type": "raw",
   "id": "734876e8",
   "metadata": {},
   "source": [
    "---\n",
    "description: This module encapsulates the CLI interface for all the classes conncted\n",
    "  to the API service.\n",
    "output-file: cli.html\n",
    "title: CLI\n",
    "\n",
    "---\n",
    "\n"
   ]
  },
  {
   "cell_type": "code",
   "execution_count": null,
   "id": "1ff31f23",
   "metadata": {},
   "outputs": [],
   "source": [
    "# | default_exp _cli.cli"
   ]
  },
  {
   "cell_type": "code",
   "execution_count": null,
   "id": "62196dd1",
   "metadata": {},
   "outputs": [],
   "source": [
    "from captn._testing import activate_by_import"
   ]
  },
  {
   "cell_type": "code",
   "execution_count": null,
   "id": "2ada8cc6",
   "metadata": {},
   "outputs": [],
   "source": [
    "# | exporti\n",
    "\n",
    "import os\n",
    "import types\n",
    "from contextlib import contextmanager\n",
    "\n",
    "import typer\n",
    "\n",
    "import captn\n",
    "from captn._cli import api_key, db, ds, user\n",
    "from captn._cli.token import token\n",
    "from captn._cli.version import version\n",
    "from captn.client import _replace_env_var"
   ]
  },
  {
   "cell_type": "code",
   "execution_count": null,
   "id": "19b154d2",
   "metadata": {},
   "outputs": [],
   "source": [
    "from airt._sanitizer import sanitized_print\n",
    "from typer.testing import CliRunner"
   ]
  },
  {
   "cell_type": "code",
   "execution_count": null,
   "id": "5aad41a8",
   "metadata": {},
   "outputs": [],
   "source": [
    "# | export\n",
    "\n",
    "app = typer.Typer(help=\"CLI for interfacing with Capt’n.\")"
   ]
  },
  {
   "cell_type": "code",
   "execution_count": null,
   "id": "817bbd59",
   "metadata": {},
   "outputs": [],
   "source": [
    "runner = CliRunner()"
   ]
  },
  {
   "cell_type": "code",
   "execution_count": null,
   "id": "27865085",
   "metadata": {},
   "outputs": [
    {
     "data": {
      "text/plain": [
       "<function airt._cli.token.token(username: Optional[str] = <typer.models.OptionInfo object>, password: Optional[str] = <typer.models.OptionInfo object>, server: Optional[str] = <typer.models.OptionInfo object>, otp: Optional[str] = <typer.models.OptionInfo object>, sso_provider: Optional[str] = <typer.models.OptionInfo object>, quiet: bool = <typer.models.OptionInfo object>, debug: bool = <typer.models.OptionInfo object>) -> None>"
      ]
     },
     "execution_count": null,
     "metadata": {},
     "output_type": "execute_result"
    }
   ],
   "source": [
    "# | exporti\n",
    "\n",
    "# token root command\n",
    "\n",
    "app.command()(token)"
   ]
  },
  {
   "cell_type": "code",
   "execution_count": null,
   "id": "77e7b27e",
   "metadata": {},
   "outputs": [
    {
     "data": {
      "text/plain": [
       "<function airt._cli.version.version() -> None>"
      ]
     },
     "execution_count": null,
     "metadata": {},
     "output_type": "execute_result"
    }
   ],
   "source": [
    "# | exporti\n",
    "\n",
    "# version root command\n",
    "\n",
    "app.command()(version)"
   ]
  },
  {
   "cell_type": "code",
   "execution_count": null,
   "id": "f6f89bcb",
   "metadata": {},
   "outputs": [],
   "source": [
    "# | exporti\n",
    "\n",
    "# db root command\n",
    "\n",
    "app.add_typer(db.app, name=\"db\")"
   ]
  },
  {
   "cell_type": "code",
   "execution_count": null,
   "id": "4d94ca3d",
   "metadata": {},
   "outputs": [],
   "source": [
    "# | exporti\n",
    "\n",
    "# ds root command\n",
    "\n",
    "app.add_typer(ds.app, name=\"ds\")"
   ]
  },
  {
   "cell_type": "code",
   "execution_count": null,
   "id": "cb117a2a",
   "metadata": {},
   "outputs": [],
   "source": [
    "# | exporti\n",
    "\n",
    "# api_key root command\n",
    "\n",
    "app.add_typer(api_key.app, name=\"api-key\")"
   ]
  },
  {
   "cell_type": "code",
   "execution_count": null,
   "id": "4519022e",
   "metadata": {},
   "outputs": [],
   "source": [
    "# | exporti\n",
    "\n",
    "# user root command\n",
    "\n",
    "app.add_typer(user.app, name=\"user\")"
   ]
  },
  {
   "cell_type": "code",
   "execution_count": null,
   "id": "7c08dfbb",
   "metadata": {},
   "outputs": [
    {
     "name": "stdout",
     "output_type": "stream",
     "text": [
      "Usage: root [OPTIONS] COMMAND [ARGS]...\n",
      "\n",
      "  CLI for interfacing with Capt’n.\n",
      "\n",
      "Options:\n",
      "  --install-completion  Install completion for the current shell.\n",
      "  --show-completion     Show completion for the current shell, to copy it or\n",
      "                        customize the installation.\n",
      "  --help                Show this message and exit.\n",
      "\n",
      "Commands:\n",
      "  api-key  A set of commands for managing the ApiKeys in the server.\n",
      "  db       A set of commands for importing and processing data from sources...\n",
      "  ds       A set of commands for managing datasources and training ML...\n",
      "  token    Get application token for captn service from a username/password...\n",
      "  user     A set of commands for managing users and their authentication in...\n",
      "  version  Return the server and client versions.\n",
      "\n"
     ]
    }
   ],
   "source": [
    "result = runner.invoke(app, [] + [\"--help\"])\n",
    "\n",
    "sanitized_print(str(result.stdout))\n",
    "\n",
    "token_help_txt = \"Get application token for captn service from a username/password\"\n",
    "version_help_txt = \"Return the server and client versions.\"\n",
    "db_help_txt = \"A set of commands for importing and processing\"\n",
    "ds_help_txt = \"A set of commands for managing datasources\"\n",
    "\n",
    "for msg in [version_help_txt, token_help_txt, db_help_txt, ds_help_txt]:\n",
    "    assert msg in str(result.stdout), f\"{msg=} not in {str(result.stdout)}\""
   ]
  },
  {
   "cell_type": "code",
   "execution_count": null,
   "id": "25998b94",
   "metadata": {},
   "outputs": [],
   "source": []
  }
 ],
 "metadata": {
  "kernelspec": {
   "display_name": "python3",
   "language": "python",
   "name": "python3"
  }
 },
 "nbformat": 4,
 "nbformat_minor": 5
}
