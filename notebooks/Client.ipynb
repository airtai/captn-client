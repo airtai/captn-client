{
 "cells": [
  {
   "cell_type": "raw",
   "metadata": {},
   "source": [
    "---\n",
    "{}\n",
    "\n",
    "---\n",
    "\n"
   ]
  },
  {
   "cell_type": "code",
   "execution_count": null,
   "metadata": {},
   "outputs": [],
   "source": [
    "# | default_exp client"
   ]
  },
  {
   "cell_type": "code",
   "execution_count": null,
   "metadata": {},
   "outputs": [],
   "source": [
    "# | export\n",
    "\n",
    "import inspect\n",
    "import types\n",
    "from typing import *\n",
    "\n",
    "import airt\n",
    "import typer\n",
    "from airt._constant import *"
   ]
  },
  {
   "cell_type": "code",
   "execution_count": null,
   "metadata": {},
   "outputs": [],
   "source": [
    "from airt._sanitizer import sanitized_print"
   ]
  },
  {
   "cell_type": "code",
   "execution_count": null,
   "metadata": {},
   "outputs": [],
   "source": [
    "# | exporti\n",
    "\n",
    "\n",
    "def _replace_env_var(s: str) -> str:\n",
    "    return s.replace(\"AIRT_\", \"CAPTN_\").replace(\"airt\", \"captn\")"
   ]
  },
  {
   "cell_type": "code",
   "execution_count": null,
   "metadata": {},
   "outputs": [],
   "source": [
    "# | exporti\n",
    "\n",
    "\n",
    "def _fix_doc_string(cls: Type):\n",
    "    cls.__doc__ = _replace_env_var(cls.__doc__)  # type: ignore\n",
    "\n",
    "    for i in dir(cls):\n",
    "        attr = getattr(cls, i)\n",
    "\n",
    "        if (attr) and (not i.startswith(\"_\")):\n",
    "            for a in [attr, inspect.unwrap(attr)]:\n",
    "                try:\n",
    "                    if a.__class__ == types.MethodType:\n",
    "                        a.__func__.__doc__ = _replace_env_var(a.__func__.__doc__)\n",
    "                    else:\n",
    "                        a.__doc__ = _replace_env_var(a.__doc__)\n",
    "\n",
    "                except Exception as e:  # nosec B110\n",
    "                    pass\n",
    "\n",
    "                for ref in [\"AIRT_\", \"airt\"]:\n",
    "                    if ref in a.__doc__:\n",
    "                        raise ValueError(f\"{ref} reference is available in {a.__doc__}\")"
   ]
  },
  {
   "cell_type": "code",
   "execution_count": null,
   "metadata": {},
   "outputs": [
    {
     "name": "stdout",
     "output_type": "stream",
     "text": [
      "CAPTN_\n"
     ]
    }
   ],
   "source": [
    "from contextlib import contextmanager\n",
    "\n",
    "from fastcore.utils import patch\n",
    "\n",
    "\n",
    "class A:\n",
    "    \"\"\"A\"\"\"\n",
    "\n",
    "    pass\n",
    "\n",
    "\n",
    "@patch(cls_method=True)\n",
    "@contextmanager\n",
    "def f(cls: A):\n",
    "    \"\"\"AIRT_\"\"\"\n",
    "    pass\n",
    "\n",
    "\n",
    "_fix_doc_string(A)\n",
    "\n",
    "sanitized_print(A.f.__doc__)\n",
    "\n",
    "assert A.f.__doc__ == \"CAPTN_\""
   ]
  },
  {
   "cell_type": "code",
   "execution_count": null,
   "metadata": {},
   "outputs": [
    {
     "name": "stdout",
     "output_type": "stream",
     "text": [
      "Sets the default destination value for the cloud_provider and the region.\n",
      "\n",
      "    Whenever you call the from_\\* methods of the `DataBlob` class inside this context manager, the destination cloud_provider and region set in this context\n",
      "    will be passed to the from_\\* methods, unless you explicitely override it in the parameter.\n",
      "\n",
      "    Args:\n",
      "        cloud_provider: The destination cloud storage provider's name to store the datablob. Currently, the API only supports **aws** and **azure** as cloud storage providers.\n",
      "        region: The destination cloud provider's region to store the datablob. The supported AWS regions are: ap-northeast-1, ap-northeast-2, ap-south-1, ap-southeast-1,\n",
      "            ap-southeast-2, ca-central-1, eu-central-1, eu-north-1, eu-west-1, eu-west-2, eu-west-3, sa-east-1, us-east-1, us-east-2, us-west-1, us-west-2. The supported\n",
      "            Azure Blob Storage regions are: australiacentral, australiacentral2, australiaeast, australiasoutheast, brazilsouth, canadacentral, canadaeast, centralindia,\n",
      "            centralus, eastasia, eastus, eastus2, francecentral, francesouth, germanynorth, germanywestcentral, japaneast, japanwest, koreacentral, koreasouth,\n",
      "            northcentralus, northeurope, norwayeast, norwaywest, southafricanorth, southafricawest, southcentralus, southeastasia, southindia, switzerlandnorth,\n",
      "            switzerlandwest, uaecentral, uaenorth, uksouth, ukwest, westcentralus, westeurope, westindia, westus, westus2.\n",
      "\n",
      "    Returns:\n",
      "        A context manager that specifies the cloud provider and region to use.\n",
      "\n",
      "    Here's an example of creating a datablob from Azure Blob Storage and storing it in AWS S3:\n",
      "\n",
      "    Example:\n",
      "        ```python\n",
      "        # Importing necessary libraries\n",
      "        import os\n",
      "\n",
      "        from azure.identity import DefaultAzureCredential\n",
      "        from azure.mgmt.storage import StorageManagementClient\n",
      "\n",
      "        from  captn.client import Client, DataBlob\n",
      "\n",
      "        # Create a credential for accessing Azure Blob Storage\n",
      "        # Setting the required environment variables\n",
      "        os.environ[\"AZURE_SUBSCRIPTION_ID\"] = \"{fill in azure_subscription_id}\"\n",
      "        os.environ[\"AZURE_CLIENT_ID\"] = \"{fill in azure_client_id}\"\n",
      "        os.environ[\"AZURE_CLIENT_SECRET\"] = \"{fill in azure_client_secret}\"\n",
      "        os.environ[\"AZURE_TENANT_ID\"]= \"{fill in azure_tenant_id}\"\n",
      "\n",
      "        # Setting the resource group name and storage account name\n",
      "        azure_group_name = \"{fill in azure_group_name}\"\n",
      "        azure_storage_account_name = \"{fill in azure_storage_account_name}\"\n",
      "\n",
      "        # Retrieving the credential\n",
      "        azure_storage_client = StorageManagementClient(\n",
      "            DefaultAzureCredential(), os.environ[\"AZURE_SUBSCRIPTION_ID\"]\n",
      "        )\n",
      "        azure_storage_keys = azure_storage_client.storage_accounts.list_keys(\n",
      "            azure_group_name, azure_storage_account_name\n",
      "        )\n",
      "        azure_storage_keys = {v.key_name: v.value for v in azure_storage_keys.keys}\n",
      "        credential = azure_storage_keys['key1']\n",
      "\n",
      "\n",
      "        # Authenticate\n",
      "        Client.get_token(username=\"{fill in username}\", password=\"{fill in password}\")\n",
      "\n",
      "        # Create a datablob\n",
      "        # In this example, the datablobs created inside the context manager will be\n",
      "        # stored in an AWS S3 bucket with the region set to eu-west-3.\n",
      "        with DataBlob.set_default_cloud_provider(\n",
      "            cloud_provider=\"aws\",\n",
      "            region=\"eu-west-3\"\n",
      "        ):\n",
      "            db = DataBlob.from_azure_blob_storage(\n",
      "                uri=\"{fill in uri}\",\n",
      "                credential=credential\n",
      "            )\n",
      "\n",
      "        # Display the status in a progress bar\n",
      "        db.progress_bar()\n",
      "\n",
      "        # Print the details of the newly created datablob\n",
      "        # If the upload is successful, the ready flag should be set to True\n",
      "        print(db.details())\n",
      "        ```\n",
      "    \n"
     ]
    }
   ],
   "source": [
    "from airt.client import DataBlob\n",
    "\n",
    "_fix_doc_string(DataBlob)\n",
    "\n",
    "sanitized_print(DataBlob.set_default_cloud_provider.__doc__)\n",
    "\n",
    "assert \"AIRT_\" not in DataBlob.set_default_cloud_provider.__doc__"
   ]
  },
  {
   "cell_type": "code",
   "execution_count": null,
   "metadata": {},
   "outputs": [],
   "source": [
    "# | exporti\n",
    "\n",
    "\n",
    "def _fix_cli_doc_string(app: typer.Typer, m_name: str):\n",
    "    for c in app.registered_commands:\n",
    "        name = c.callback.__name__.replace(\"-\", \"_\")  # type: ignore\n",
    "\n",
    "        getattr(getattr(airt._cli, m_name), name).__doc__ = _replace_env_var(\n",
    "            getattr(getattr(airt._cli, m_name), name).__doc__\n",
    "        )"
   ]
  },
  {
   "cell_type": "code",
   "execution_count": null,
   "metadata": {},
   "outputs": [],
   "source": [
    "# | exporti\n",
    "\n",
    "\n",
    "def _set_global_env_vars(m: types.ModuleType):\n",
    "    for v in dir(m):\n",
    "        if not v.startswith(\"_\"):\n",
    "            setattr(m, v, _replace_env_var(getattr(m, v)))\n",
    "\n",
    "            if \"AIRT_\" in getattr(m, v):\n",
    "                raise ValueError(f\"AIRT_ reference is available in {getattr(m, v)}\")"
   ]
  },
  {
   "cell_type": "code",
   "execution_count": null,
   "metadata": {},
   "outputs": [],
   "source": [
    "# | export\n",
    "\n",
    "_set_global_env_vars(airt._constant)\n",
    "\n",
    "from airt.client import Client as _Client\n",
    "\n",
    "Client = _Client\n",
    "\n",
    "from airt.client import DataBlob as _DataBlob\n",
    "\n",
    "DataBlob = _DataBlob\n",
    "\n",
    "from airt.client import DataSource as _DataSource\n",
    "\n",
    "DataSource = _DataSource\n",
    "\n",
    "from airt.client import User as _User\n",
    "\n",
    "User = _User\n",
    "\n",
    "from airt.client import APIKey as _APIKey\n",
    "\n",
    "APIKey = _APIKey\n",
    "\n",
    "for cls in [Client, DataBlob, DataSource, User, APIKey]:\n",
    "    cls.__module__ = \"captn.client\"\n",
    "    _fix_doc_string(cls)"
   ]
  },
  {
   "cell_type": "code",
   "execution_count": null,
   "metadata": {},
   "outputs": [],
   "source": []
  }
 ],
 "metadata": {
  "kernelspec": {
   "display_name": "python3",
   "language": "python",
   "name": "python3"
  }
 },
 "nbformat": 4,
 "nbformat_minor": 2
}
