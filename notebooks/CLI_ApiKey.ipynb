{
 "cells": [
  {
   "cell_type": "raw",
   "metadata": {},
   "source": [
    "---\n",
    "description: This module encapsulates a CLI interface for all the classes conncted\n",
    "  to the API service.\n",
    "output-file: cli_apikey.html\n",
    "title: CLI_APIKey\n",
    "\n",
    "---\n",
    "\n"
   ]
  },
  {
   "cell_type": "code",
   "execution_count": 1,
   "metadata": {},
   "outputs": [],
   "source": [
    "# | default_exp cli.api_key"
   ]
  },
  {
   "cell_type": "code",
   "execution_count": 2,
   "metadata": {},
   "outputs": [],
   "source": [
    "from captn.testing import activate_by_import"
   ]
  },
  {
   "cell_type": "code",
   "execution_count": 3,
   "metadata": {},
   "outputs": [],
   "source": [
    "# | export\n",
    "\n",
    "import airt\n",
    "\n",
    "from captn.client import _fix_cli_doc_string"
   ]
  },
  {
   "cell_type": "code",
   "execution_count": 4,
   "metadata": {},
   "outputs": [],
   "source": [
    "# | export\n",
    "\n",
    "from airt._cli.api_key import app as _app\n",
    "\n",
    "app = _app\n",
    "\n",
    "_fix_cli_doc_string(app, \"api_key\")"
   ]
  },
  {
   "cell_type": "code",
   "execution_count": 5,
   "metadata": {},
   "outputs": [],
   "source": [
    "from airt._sanitizer import sanitized_print\n",
    "from typer.testing import CliRunner"
   ]
  },
  {
   "cell_type": "code",
   "execution_count": 6,
   "metadata": {},
   "outputs": [
    {
     "name": "stdout",
     "output_type": "stream",
     "text": [
      "Usage: root create [OPTIONS] NAME\n",
      "\n",
      "  Create a new ApiKey\n",
      "\n",
      "  !!! note\n",
      "\n",
      "      - The name of the ApiKey must be unique. If not, an exception will be\n",
      "      raised while creating a new key with an existing key's name.\n",
      "\n",
      "      - The expiry for an ApiKey is optional. If not passed, then the default\n",
      "      value None will be used to create an ApiKey with no expiry date!\n",
      "\n",
      "Arguments:\n",
      "  NAME  The name of the ApiKey.  [required]\n",
      "\n",
      "Options:\n",
      "  -e, --expiry INTEGER  The validity of the API key in number of days. If not\n",
      "                        passed, then the default value None will be used to\n",
      "                        create an ApiKey with no expiry date!\n",
      "  --otp TEXT            Dynamically generated six-digit verification code from\n",
      "                        the authenticator app. Please pass this optional\n",
      "                        argument only if the MFA is enabled for your account.\n",
      "  -q, --quiet           Output access token only.\n",
      "  -d, --debug           Set logger level to DEBUG and output everything.\n",
      "  --help                Show this message and exit.\n",
      "\n",
      "Usage: root ls [OPTIONS]\n",
      "\n",
      "  Get the list of ApiKeys.\n",
      "\n",
      "Options:\n",
      "  -u, --user TEXT       user_uuid/username associated with the ApiKey. To get\n",
      "                        the user account uuid/username, use the `captn user\n",
      "                        details` command. If the user_uuid/username is not\n",
      "                        passed, then the currently logged-in user_uuid/username\n",
      "                        will be used.\n",
      "  -o, --offset INTEGER  The number of ApiKeys to offset at the beginning. If\n",
      "                        None, then the default value 0 will be used.  [default:\n",
      "                        0]\n",
      "  -l, --limit INTEGER   The maximum number of ApiKeys to return from the server.\n",
      "                        If None, then the default value 100 will be used.\n",
      "                        [default: 100]\n",
      "  --disabled            If set to **True**, then the disabled ApiKeys will also\n",
      "                        be included in the result.\n",
      "  -f, --format TEXT     Format output and show only the given column(s) values.\n",
      "  -q, --quiet           Output only ApiKey uuids.\n",
      "  -d, --debug           Set logger level to DEBUG and output everything.\n",
      "  --help                Show this message and exit.\n",
      "\n",
      "Usage: root details [OPTIONS] APIKEY\n",
      "\n",
      "  Get the details of an ApiKey.\n",
      "\n",
      "Arguments:\n",
      "  APIKEY  ApiKey uuid/name.  [required]\n",
      "\n",
      "Options:\n",
      "  -f, --format TEXT  Format output and show only the given column(s) values.\n",
      "  -d, --debug        Set logger level to DEBUG and output everything.\n",
      "  --help             Show this message and exit.\n",
      "\n",
      "Usage: root revoke [OPTIONS] KEYS...\n",
      "\n",
      "  Revoke one or more ApiKeys\n",
      "\n",
      "Arguments:\n",
      "  KEYS...  ApiKey uuid/name to revoke. To revoke multiple keys, please pass the\n",
      "           uuids/names separated by space.  [required]\n",
      "\n",
      "Options:\n",
      "  --user TEXT        user_uuid/username associated with the ApiKey. To get the\n",
      "                     user account uuid/username, use the `captn user details`\n",
      "                     command. If the user_uuid/username is not passed, then the\n",
      "                     currently logged-in user_uuid/username will be used.\n",
      "  --otp TEXT         Dynamically generated six-digit verification code from the\n",
      "                     authenticator app. Please pass this optional argument only\n",
      "                     if the MFA is enabled for your account.\n",
      "  -f, --format TEXT  Format output and show only the given column(s) values.\n",
      "  -q, --quiet        Output only the revoked ApiKey uuid(s).\n",
      "  -d, --debug        Set logger level to DEBUG and output everything.\n",
      "  --help             Show this message and exit.\n",
      "\n"
     ]
    }
   ],
   "source": [
    "runner = CliRunner()\n",
    "\n",
    "for c in app.registered_commands:\n",
    "    name = c.callback.__name__.replace(\"_\", \"-\")\n",
    "    result = runner.invoke(app, [name] + [\"--help\"])\n",
    "\n",
    "    sanitized_print(str(result.stdout))\n",
    "\n",
    "    assert \"AIRT_\" not in str(result.stdout)\n",
    "    assert \"airt\" not in str(result.stdout)"
   ]
  },
  {
   "cell_type": "code",
   "execution_count": null,
   "metadata": {},
   "outputs": [],
   "source": []
  }
 ],
 "metadata": {
  "kernelspec": {
   "display_name": "Python 3 (ipykernel)",
   "language": "python",
   "name": "python3"
  },
  "language_info": {
   "codemirror_mode": {
    "name": "ipython",
    "version": 3
   },
   "file_extension": ".py",
   "mimetype": "text/x-python",
   "name": "python",
   "nbconvert_exporter": "python",
   "pygments_lexer": "ipython3",
   "version": "3.9.16"
  }
 },
 "nbformat": 4,
 "nbformat_minor": 2
}
