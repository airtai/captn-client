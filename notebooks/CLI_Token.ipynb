{
 "cells": [
  {
   "cell_type": "raw",
   "metadata": {},
   "source": [
    "---\n",
    "description: This module encapsulates a CLI interface for all the classes conncted\n",
    "  to the API service.\n",
    "output-file: cli_token.html\n",
    "title: CLI_Token\n",
    "\n",
    "---\n",
    "\n"
   ]
  },
  {
   "cell_type": "code",
   "execution_count": 1,
   "metadata": {},
   "outputs": [],
   "source": [
    "# | default_exp cli.token"
   ]
  },
  {
   "cell_type": "code",
   "execution_count": 2,
   "metadata": {},
   "outputs": [],
   "source": [
    "from captn.testing import activate_by_import"
   ]
  },
  {
   "cell_type": "code",
   "execution_count": 3,
   "metadata": {},
   "outputs": [],
   "source": [
    "# | export\n",
    "\n",
    "import airt\n",
    "import typer\n",
    "\n",
    "from captn.client import _fix_cli_doc_string, _replace_env_var"
   ]
  },
  {
   "cell_type": "code",
   "execution_count": 4,
   "metadata": {},
   "outputs": [],
   "source": [
    "# | export\n",
    "\n",
    "from airt._cli.token import token as _token\n",
    "\n",
    "token = _token\n",
    "\n",
    "token.__doc__ = _replace_env_var(token.__doc__)"
   ]
  },
  {
   "cell_type": "code",
   "execution_count": 5,
   "metadata": {},
   "outputs": [
    {
     "data": {
      "text/plain": [
       "<function airt._cli.token.token(username: Optional[str] = <typer.models.OptionInfo object at 0x7fbc04b59a60>, password: Optional[str] = <typer.models.OptionInfo object at 0x7fbc04aa9d00>, server: Optional[str] = <typer.models.OptionInfo object at 0x7fbc04aa9c70>, otp: Optional[str] = <typer.models.OptionInfo object at 0x7fbc04aa95b0>, sso_provider: Optional[str] = <typer.models.OptionInfo object at 0x7fbc04aa9cd0>, quiet: bool = <typer.models.OptionInfo object at 0x7fbc04aa9ca0>, debug: bool = <typer.models.OptionInfo object at 0x7fbc04aa94f0>) -> None>"
      ]
     },
     "execution_count": 5,
     "metadata": {},
     "output_type": "execute_result"
    }
   ],
   "source": [
    "# | export\n",
    "\n",
    "app = typer.Typer()\n",
    "app.command()(token)"
   ]
  },
  {
   "cell_type": "code",
   "execution_count": 6,
   "metadata": {},
   "outputs": [],
   "source": [
    "from airt._sanitizer import sanitized_print\n",
    "from typer.testing import CliRunner"
   ]
  },
  {
   "cell_type": "code",
   "execution_count": 7,
   "metadata": {},
   "outputs": [
    {
     "name": "stdout",
     "output_type": "stream",
     "text": [
      "Usage: token [OPTIONS]\n",
      "\n",
      "  Get application token for captn service from a username/password pair.\n",
      "\n",
      "  To access the captn service, you must first create a developer account. To\n",
      "  obtain one, please contact us at info@captn.ai.\n",
      "\n",
      "  After successful verification, you will receive an email with the username and\n",
      "  password for the developer account.\n",
      "\n",
      "  Once you have the credentials, use them to get an access token by running\n",
      "  **captn token** command. It is necessary to get an access token; otherwise,\n",
      "  you won't be able to access all of the captn service's APIs. You can either\n",
      "  pass the username, password, and server address as command line arguments or\n",
      "  store them in the environment variables **CAPTN_SERVICE_USERNAME**,\n",
      "  **CAPTN_SERVICE_PASSWORD**, and **CAPTN_SERVER_URL**.\n",
      "\n",
      "  If you've already enabled multi-factor authentication (MFA) for your account,\n",
      "  you'll need to pass the dynamically generated six-digit verification code\n",
      "  along with your username and password to generate new tokens.\n",
      "\n",
      "  If the token is requested using Single sign-on (SSO), an authorization URL\n",
      "  will be returned. Please copy and paste it into your preferred browser and\n",
      "  complete the SSO provider authentication within 10 minutes. Otherwise, the SSO\n",
      "  login will time out and you will need to re-request the token.\n",
      "\n",
      "  Single sign-on (SSO) can be enabled for your account in three simple steps:\n",
      "\n",
      "  1. Enable the SSO for a provider by calling the command `captn user sso\n",
      "  enable` with the SSO provider name and an email address. At the moment, we\n",
      "  only support \"google\" and \"github\" as SSO providers. We intend to support\n",
      "  additional SSO providers in future releases.\n",
      "\n",
      "  2. Before you can start generating new tokens with SSO, you must first\n",
      "  authenticate with the SSO provider. Call the `captn token` command with the\n",
      "  same SSO provider you have enabled in the step above to generate an SSO\n",
      "  authorization URL. Please copy and paste it into your preferred browser and\n",
      "  complete the authentication process with the SSO provider.\n",
      "\n",
      "  3. After successfully authenticating with the SSO provider, an access token\n",
      "  will be generated and returned. Please set it in the **CAPTN_SERVICE_TOKEN**\n",
      "  environment variable for accessing the captn service.\n",
      "\n",
      "Options:\n",
      "  -u, --username TEXT       Username for the developer account. If None (default\n",
      "                            value), then the value from\n",
      "                            **CAPTN_SERVICE_USERNAME** environment variable is\n",
      "                            used.\n",
      "  -p, --password TEXT       Password for the developer account. If None (default\n",
      "                            value), then the value from\n",
      "                            **CAPTN_SERVICE_PASSWORD** environment variable is\n",
      "                            used.\n",
      "  -s, --server TEXT         The captn server uri. If None (default value), then\n",
      "                            the value from **CAPTN_SERVER_URL** environment\n",
      "                            variable is used. If the variable is not set as\n",
      "                            well, then the default public server will be used.\n",
      "                            Please leave this setting to default unless you are\n",
      "                            running the service in your own server (please email\n",
      "                            us to info@captn.ai for that possibility).\n",
      "  --otp TEXT                Dynamically generated six-digit verification code\n",
      "                            from the authenticator app or the OTP you have\n",
      "                            received via SMS. Please do not pass this parameter\n",
      "                            if you haven't enabled the multi-factor\n",
      "                            authentication for your account.\n",
      "  -sp, --sso_provider TEXT  Name of the Single sign-on (SSO) provider. At the\n",
      "                            moment, we only support google and github as SSO\n",
      "                            providers. Please pass this parameter only if you\n",
      "                            have successfully enabled SSO for the provider.\n",
      "  -q, --quiet               Output authentication token only.\n",
      "  -d, --debug               Set logger level to DEBUG and output everything.\n",
      "  --install-completion      Install completion for the current shell.\n",
      "  --show-completion         Show completion for the current shell, to copy it or\n",
      "                            customize the installation.\n",
      "  --help                    Show this message and exit.\n",
      "\n"
     ]
    }
   ],
   "source": [
    "runner = CliRunner()\n",
    "\n",
    "for c in app.registered_commands:\n",
    "    name = c.callback.__name__.replace(\"_\", \"-\")\n",
    "    result = runner.invoke(app, [name] + [\"--help\"])\n",
    "\n",
    "    sanitized_print(str(result.stdout))\n",
    "\n",
    "    assert \"AIRT_\" not in str(result.stdout)\n",
    "    assert \"airt\" not in str(result.stdout)"
   ]
  },
  {
   "cell_type": "code",
   "execution_count": null,
   "metadata": {},
   "outputs": [],
   "source": []
  }
 ],
 "metadata": {
  "kernelspec": {
   "display_name": "Python 3 (ipykernel)",
   "language": "python",
   "name": "python3"
  },
  "language_info": {
   "codemirror_mode": {
    "name": "ipython",
    "version": 3
   },
   "file_extension": ".py",
   "mimetype": "text/x-python",
   "name": "python",
   "nbconvert_exporter": "python",
   "pygments_lexer": "ipython3",
   "version": "3.9.16"
  }
 },
 "nbformat": 4,
 "nbformat_minor": 2
}
