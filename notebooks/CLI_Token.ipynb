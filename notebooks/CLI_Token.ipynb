{
 "cells": [
  {
   "cell_type": "raw",
   "metadata": {},
   "source": [
    "---\n",
    "description: This module encapsulates a CLI interface for all the classes conncted\n",
    "  to the API service.\n",
    "output-file: cli_token.html\n",
    "title: CLI_Token\n",
    "\n",
    "---\n",
    "\n"
   ]
  },
  {
   "cell_type": "code",
   "execution_count": null,
   "metadata": {},
   "outputs": [],
   "source": [
    "#| default_exp cli.token"
   ]
  },
  {
   "cell_type": "code",
   "execution_count": null,
   "metadata": {},
   "outputs": [],
   "source": [
    "from captn.testing import activate_by_import "
   ]
  },
  {
   "cell_type": "code",
   "execution_count": null,
   "metadata": {},
   "outputs": [],
   "source": [
    "#| export\n",
    "\n",
    "import typer\n",
    "\n",
    "import airt\n",
    "from captn.client import _replace_env_var, _fix_cli_doc_string"
   ]
  },
  {
   "cell_type": "code",
   "execution_count": null,
   "metadata": {},
   "outputs": [],
   "source": [
    "#| export\n",
    "\n",
    "from airt.cli.token import token as _token\n",
    "token = _token\n",
    "\n",
    "token.__doc__ = _replace_env_var(token.__doc__)"
   ]
  },
  {
   "cell_type": "code",
   "execution_count": null,
   "metadata": {},
   "outputs": [
    {
     "data": {
      "text/plain": [
       "<function airt.cli.token.token(username: Union[str, NoneType] = <typer.models.OptionInfo object at 0x7f9c39a557f0>, password: Union[str, NoneType] = <typer.models.OptionInfo object at 0x7f9c39a06a30>, server: Union[str, NoneType] = <typer.models.OptionInfo object at 0x7f9c39a06a60>, otp: Union[str, NoneType] = <typer.models.OptionInfo object at 0x7f9c39a06a90>, sso_provider: Union[str, NoneType] = <typer.models.OptionInfo object at 0x7f9c39a06b20>, quiet: bool = <typer.models.OptionInfo object at 0x7f9c39a06fa0>, debug: bool = <typer.models.OptionInfo object at 0x7f9c39a06850>) -> None>"
      ]
     },
     "execution_count": null,
     "metadata": {},
     "output_type": "execute_result"
    }
   ],
   "source": [
    "#| export\n",
    "\n",
    "app = typer.Typer()\n",
    "app.command()(token)"
   ]
  },
  {
   "cell_type": "code",
   "execution_count": null,
   "metadata": {},
   "outputs": [],
   "source": [
    "from typer.testing import CliRunner\n",
    "\n",
    "from airt.sanitizer import sanitized_print"
   ]
  },
  {
   "cell_type": "code",
   "execution_count": null,
   "metadata": {},
   "outputs": [
    {
     "name": "stdout",
     "output_type": "stream",
     "text": [
      "Usage: token [OPTIONS]\n",
      "\n",
      "  Get application token for captn service from a username/password pair.\n",
      "\n",
      "  To access the captn service, you must first create a developer account. To\n",
      "  obtain one, please contact us at info@captn.ai.\n",
      "\n",
      "  After successful verification, you will receive an email with the username and\n",
      "  password for the developer account.\n",
      "\n",
      "  Once you have the credentials, use them to get an access token by running\n",
      "  **captn token** command. It is necessary to get an access token; otherwise,\n",
      "  you won't be able to access all of the captn service's APIs. You can either\n",
      "  pass the username, password, and server address as command line arguments or\n",
      "  store them in the environment variables **CAPTN_SERVICE_USERNAME**,\n",
      "  **CAPTN_SERVICE_PASSWORD**, and **CAPTN_SERVER_URL**.\n",
      "\n",
      "  If you've already enabled multi-factor authentication (MFA) for your account,\n",
      "  you'll need to pass the dynamically generated six-digit verification code\n",
      "  along with your username and password to generate new tokens.\n",
      "\n",
      "  If the token is requested using Single sign-on (SSO), an authorization URL\n",
      "  will be returned. Please copy and paste it into your preferred browser and\n",
      "  complete the SSO provider authentication within 10 minutes. Otherwise, the SSO\n",
      "  login will time out and you will need to re-request the token.\n",
      "\n",
      "  Single sign-on (SSO) can be enabled for your account in three simple steps:\n",
      "\n",
      "  1. Enable the SSO for a provider by calling the command `captn user sso\n",
      "  enable` with the SSO provider name and an email address. At the moment, we\n",
      "  only support \"google\" and \"github\" as SSO providers. We intend to support\n",
      "  additional SSO providers in future releases.\n",
      "\n",
      "  2. Before you can start generating new tokens with SSO, you must first\n",
      "  authenticate with the SSO provider. Call the `captn token` command with the\n",
      "  same SSO provider you have enabled in the step above to generate an SSO\n",
      "  authorization URL. Please copy and paste it into your preferred browser and\n",
      "  complete the authentication process with the SSO provider.\n",
      "\n",
      "  3. After successfully authenticating with the SSO provider, an access token\n",
      "  will be generated and returned. Please set it in the **CAPTN_SERVICE_TOKEN**\n",
      "  environment variable for accessing the captn service.\n",
      "\n",
      "Options:\n",
      "  -u, --username TEXT             Username for the developer account. If None\n",
      "                                  (default value), then the value from\n",
      "                                  **CAPTN_SERVICE_USERNAME** environment\n",
      "                                  variable is used.\n",
      "  -p, --password TEXT             Password for the developer account. If None\n",
      "                                  (default value), then the value from\n",
      "                                  **CAPTN_SERVICE_PASSWORD** environment\n",
      "                                  variable is used.\n",
      "  -s, --server TEXT               The captn server uri. If None (default value),\n",
      "                                  then the value from **CAPTN_SERVER_URL**\n",
      "                                  environment variable is used. If the variable\n",
      "                                  is not set as well, then the default public\n",
      "                                  server will be used. Please leave this setting\n",
      "                                  to default unless you are running the service\n",
      "                                  in your own server (please email us to\n",
      "                                  info@captn.ai for that possibility).\n",
      "  --otp TEXT                      Dynamically generated six-digit verification\n",
      "                                  code from the authenticator app or the OTP you\n",
      "                                  have received via SMS. Please do not pass this\n",
      "                                  parameter if you haven't enabled the multi-\n",
      "                                  factor authentication for your account.\n",
      "  -sp, --sso_provider TEXT        Name of the Single sign-on (SSO) provider. At\n",
      "                                  the moment, we only support google and github\n",
      "                                  as SSO providers. Please pass this parameter\n",
      "                                  only if you have successfully enabled SSO for\n",
      "                                  the provider.\n",
      "  -q, --quiet                     Output authentication token only.\n",
      "  -d, --debug                     Set logger level to DEBUG and output\n",
      "                                  everything.\n",
      "  --install-completion [bash|zsh|fish|powershell|pwsh]\n",
      "                                  Install completion for the specified shell.\n",
      "  --show-completion [bash|zsh|fish|powershell|pwsh]\n",
      "                                  Show completion for the specified shell, to\n",
      "                                  copy it or customize the installation.\n",
      "  --help                          Show this message and exit.\n",
      "\n"
     ]
    }
   ],
   "source": [
    "\n",
    "runner = CliRunner()\n",
    "\n",
    "for c in app.registered_commands:\n",
    "    name = c.callback.__name__.replace(\"_\", \"-\")\n",
    "    result = runner.invoke(app, [name] + [\"--help\"])\n",
    "\n",
    "    sanitized_print(str(result.stdout))\n",
    "\n",
    "    assert \"AIRT_\" not in str(result.stdout)\n",
    "    assert \"airt\" not in str(result.stdout)"
   ]
  },
  {
   "cell_type": "code",
   "execution_count": null,
   "metadata": {},
   "outputs": [],
   "source": []
  }
 ],
 "metadata": {
  "kernelspec": {
   "display_name": "Python 3",
   "language": "python",
   "name": "python3"
  }
 },
 "nbformat": 4,
 "nbformat_minor": 2
}
