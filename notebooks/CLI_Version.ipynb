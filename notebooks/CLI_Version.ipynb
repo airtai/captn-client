{
 "cells": [
  {
   "cell_type": "raw",
   "metadata": {},
   "source": [
    "---\n",
    "description: This module encapsulates a CLI interface for accessing the version API.\n",
    "output-file: cli_version.html\n",
    "title: CLI_Version\n",
    "\n",
    "---\n",
    "\n"
   ]
  },
  {
   "cell_type": "code",
   "execution_count": null,
   "metadata": {},
   "outputs": [],
   "source": [
    "# | default_exp _cli.version"
   ]
  },
  {
   "cell_type": "code",
   "execution_count": null,
   "metadata": {},
   "outputs": [],
   "source": [
    "from captn._testing import activate_by_import"
   ]
  },
  {
   "cell_type": "code",
   "execution_count": null,
   "metadata": {},
   "outputs": [],
   "source": [
    "# | export\n",
    "\n",
    "import airt\n",
    "import typer\n",
    "\n",
    "from captn.client import _fix_cli_doc_string, _replace_env_var"
   ]
  },
  {
   "cell_type": "code",
   "execution_count": null,
   "metadata": {},
   "outputs": [],
   "source": [
    "# | export\n",
    "\n",
    "from airt._cli.version import version as _version\n",
    "\n",
    "version = _version\n",
    "\n",
    "version.__doc__ = _replace_env_var(version.__doc__)"
   ]
  },
  {
   "cell_type": "code",
   "execution_count": null,
   "metadata": {},
   "outputs": [
    {
     "data": {
      "text/plain": [
       "<function airt._cli.version.version() -> None>"
      ]
     },
     "execution_count": null,
     "metadata": {},
     "output_type": "execute_result"
    }
   ],
   "source": [
    "# | export\n",
    "\n",
    "app = typer.Typer()\n",
    "app.command()(version)"
   ]
  },
  {
   "cell_type": "code",
   "execution_count": null,
   "metadata": {},
   "outputs": [],
   "source": [
    "from airt._sanitizer import sanitized_print\n",
    "from typer.testing import CliRunner"
   ]
  },
  {
   "cell_type": "code",
   "execution_count": null,
   "metadata": {},
   "outputs": [
    {
     "name": "stdout",
     "output_type": "stream",
     "text": [
      "Usage: version [OPTIONS]\n",
      "\n",
      "  Return the server and client versions.\n",
      "\n",
      "Options:\n",
      "  --install-completion  Install completion for the current shell.\n",
      "  --show-completion     Show completion for the current shell, to copy it or\n",
      "                        customize the installation.\n",
      "  --help                Show this message and exit.\n",
      "\n"
     ]
    }
   ],
   "source": [
    "runner = CliRunner()\n",
    "\n",
    "for c in app.registered_commands:\n",
    "    name = c.callback.__name__.replace(\"_\", \"-\")\n",
    "    result = runner.invoke(app, [name] + [\"--help\"])\n",
    "\n",
    "    sanitized_print(str(result.stdout))\n",
    "\n",
    "    assert \"AIRT_\" not in str(result.stdout)\n",
    "    assert \"airt\" not in str(result.stdout)"
   ]
  },
  {
   "cell_type": "code",
   "execution_count": null,
   "metadata": {},
   "outputs": [
    {
     "name": "stdout",
     "output_type": "stream",
     "text": [
      "        Version\n",
      "client  2023.2.0\n",
      "server  2022.12.0rc0\n",
      "\n"
     ]
    }
   ],
   "source": [
    "result = runner.invoke(app)\n",
    "\n",
    "sanitized_print(str(result.stdout))"
   ]
  },
  {
   "cell_type": "code",
   "execution_count": null,
   "metadata": {},
   "outputs": [],
   "source": []
  }
 ],
 "metadata": {
  "kernelspec": {
   "display_name": "python3",
   "language": "python",
   "name": "python3"
  }
 },
 "nbformat": 4,
 "nbformat_minor": 2
}
