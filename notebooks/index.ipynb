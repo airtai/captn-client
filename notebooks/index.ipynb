{
 "cells": [
  {
   "cell_type": "markdown",
   "metadata": {},
   "source": [
    "# Capt'n python client"
   ]
  },
  {
   "cell_type": "markdown",
   "metadata": {},
   "source": [
    "## Docs\n",
    "\n",
    "For full documentation, Please follow the below link:\n",
    "\n",
    "- <a href=\"https://docs.captn.ai\" target=\"_blank\">https://docs.captn.ai/</a>\n"
   ]
  },
  {
   "cell_type": "markdown",
   "metadata": {},
   "source": [
    "## How to install\n",
    "\n",
    "If you don't have the captn library already installed, please install it using pip.\n",
    "\n",
    "\n",
    "```console\n",
    "pip install captn-client\n",
    "```"
   ]
  },
  {
   "cell_type": "markdown",
   "metadata": {},
   "source": [
    "## How to use\n",
    "\n",
    "To access the captn service, you must first create a developer account. Please fill out the signup form below to get one:\n",
    "\n",
    "- [https://bit.ly/3I4cNuv](https://bit.ly/3I4cNuv)\n",
    "\n",
    "After successful verification, you will receive an email with the username and password for the developer account.\n",
    "\n",
    "Once you have the credentials, use them to get an access token by calling `Client.get_token` method. It is necessary to get an access token; otherwise, you won't be able to access all of the captn service's APIs. You can either pass the username, password, and server address as parameters to the `Client.get_token` method or store them in the environment variables **CAPTN_SERVICE_USERNAME**, **CAPTN_SERVICE_PASSWORD**, and **CAPTN_SERVER_URL**.\n",
    "\n",
    "In addition to the regular authentication with credentials, you can also enable multi-factor authentication (MFA) and single sign-on (SSO) for generating tokens.\n",
    "\n",
    "To help protect your account, we recommend that you enable multi-factor authentication (MFA). MFA provides additional security by requiring you to provide unique verification code (OTP) in addition to your regular sign-in credentials when performing critical operations.\n",
    "\n",
    "Your account can be configured for MFA in just two easy steps:\n",
    "\n",
    "1. To begin, you need to enable MFA for your account by calling the `User.enable_mfa` method, which will generate a QR code. You can then \n",
    "scan the QR code with an authenticator app, such as Google Authenticator and follow the on-device instructions to finish the setup in your smartphone.\n",
    "\n",
    "2. Finally, activate MFA for your account by calling `User.activate_mfa` and passing the dynamically generated six-digit verification code from your \n",
    "smartphone's authenticator app.\n",
    "\n",
    "You can also disable MFA for your account at any time by calling the method `User.disable_mfa` method.\n",
    "\n",
    "Single sign-on (SSO) can be enabled for your account in three simple steps:\n",
    "\n",
    "1. Enable the SSO for a provider by calling the `User.enable_sso` method with the SSO provider name and an email address. At the moment, \n",
    "we only support \"google\" and \"github\" as SSO providers. We intend to support additional SSO providers in future releases.\n",
    "\n",
    "2. Before you can start generating new tokens with SSO, you must first authenticate with the SSO provider. Call the `Client.get_token` with \n",
    "the same SSO provider you have enabled in the step above to generate an SSO authorization URL. Please copy and paste it into your \n",
    "preferred browser and complete the authentication process with the SSO provider.\n",
    "\n",
    "3. After successfully authenticating with the SSO provider, call the `Client.set_sso_token` method to generate a new token and use it automatically \n",
    "in all future interactions with the captn server.\n",
    "\n",
    "For more information, please check:\n",
    "\n",
    "- [Tutorial](https://docs.captn.ai/Tutorial/) with more elaborate example, and\n",
    "\n",
    "- [API](https://docs.captn.ai/API/client/Client/) with reference documentation.\n",
    "\n",
    "\n",
    "Here's a minimal example showing how to use captn services to train a model and make predictions.\n",
    "\n",
    "In the below example, the username, password, and server address are stored in **CAPTN_SERVICE_USERNAME**, **CAPTN_SERVICE_PASSWORD**, and **CAPTN_SERVER_URL** environment variables.\n"
   ]
  },
  {
   "cell_type": "markdown",
   "metadata": {},
   "source": [
    "### 0. Get token"
   ]
  },
  {
   "cell_type": "code",
   "execution_count": null,
   "metadata": {},
   "outputs": [],
   "source": [
    "# Importing necessary libraries\n",
    "from captn.client import Client, DataBlob, DataSource\n",
    "\n",
    "# Authenticate\n",
    "Client.get_token()"
   ]
  },
  {
   "cell_type": "markdown",
   "metadata": {},
   "source": [
    "### 1. Connect and preprocess data"
   ]
  },
  {
   "cell_type": "markdown",
   "metadata": {},
   "source": [
    "In our example, we will be using the captn APIs to load and preprocess a sample CSV file stored in an AWS S3 bucket. "
   ]
  },
  {
   "cell_type": "code",
   "execution_count": null,
   "metadata": {},
   "outputs": [
    {
     "name": "stderr",
     "output_type": "stream",
     "text": [
      "100%|██████████| 1/1 [00:35<00:00, 35.44s/it]\n"
     ]
    }
   ],
   "source": [
    "# Before you can use the data to train a model, it must be uploaded to the\n",
    "# captn server. Run the following command to upload the data to the\n",
    "# captn server for further processing.\n",
    "data_blob = DataBlob.from_s3(uri=\"s3://test-airt-service/sample_gaming_130k\")\n",
    "\n",
    "# Display the upload progress\n",
    "data_blob.progress_bar()"
   ]
  },
  {
   "cell_type": "markdown",
   "metadata": {},
   "source": [
    "The sample data we used in this example doesn't have the header rows and their data types defined. \n",
    "\n",
    "The following code creates the necessary headers along with their data types and reads only a subset of columns that are required for modeling:\n"
   ]
  },
  {
   "cell_type": "code",
   "execution_count": null,
   "metadata": {},
   "outputs": [],
   "source": [
    "# Add header rows\n",
    "prefix = [\"revenue\", \"ad_revenue\", \"conversion\", \"retention\"]\n",
    "days = list(range(30)) + list(range(30, 361, 30))\n",
    "dtype = {\n",
    "    \"date\": \"str\",\n",
    "    \"game_name\": \"str\",\n",
    "    \"platform\": \"str\",\n",
    "    \"user_type\": \"str\",\n",
    "    \"network\": \"str\",\n",
    "    \"campaign\": \"str\",\n",
    "    \"adgroup\": \"str\",\n",
    "    \"installs\": \"int32\",\n",
    "    \"spend\": \"float32\",\n",
    "}\n",
    "dtype.update({f\"{p}_{d}\": \"float32\" for p in prefix for d in days})\n",
    "names = list(dtype.keys())\n",
    "\n",
    "kwargs = {\n",
    "    \"delimiter\": \"|\",\n",
    "    \"names\": names,\n",
    "    \"parse_dates\": [\"date\"],\n",
    "    \"usecols\": names[:42],\n",
    "    \"dtype\": dtype,\n",
    "}"
   ]
  },
  {
   "cell_type": "markdown",
   "metadata": {},
   "source": [
    "Finally, the above variables are passed to the `DataBlob.to_datasource` method which preprocesses the data and stores it in captn server."
   ]
  },
  {
   "cell_type": "code",
   "execution_count": null,
   "metadata": {},
   "outputs": [
    {
     "name": "stderr",
     "output_type": "stream",
     "text": [
      "100%|██████████| 1/1 [00:55<00:00, 55.66s/it]\n"
     ]
    }
   ],
   "source": [
    "# Preprocess and prepare the data for training\n",
    "data_source = data_blob.to_datasource(\n",
    "    file_type=\"csv\", index_column=\"game_name\", sort_by=\"date\", **kwargs\n",
    ")\n",
    "\n",
    "# Display the data preprocessing progress\n",
    "data_source.progress_bar()"
   ]
  },
  {
   "cell_type": "code",
   "execution_count": null,
   "metadata": {},
   "outputs": [
    {
     "name": "stdout",
     "output_type": "stream",
     "text": [
      "                  date platform          user_type            network  \\\n",
      "game_name                                                               \n",
      "game_name_0 2021-03-15      ios      jetfuelit_int      jetfuelit_int   \n",
      "game_name_0 2021-03-15      ios      jetfuelit_int      jetfuelit_int   \n",
      "game_name_0 2021-03-15      ios      jetfuelit_int      jetfuelit_int   \n",
      "game_name_0 2021-03-15      ios      jetfuelit_int      jetfuelit_int   \n",
      "game_name_0 2021-03-15      ios      jetfuelit_int      jetfuelit_int   \n",
      "game_name_0 2021-03-15  android  googleadwords_int  googleadwords_int   \n",
      "game_name_0 2021-03-15  android  googleadwords_int  googleadwords_int   \n",
      "game_name_0 2021-03-15  android         moloco_int         moloco_int   \n",
      "game_name_0 2021-03-15  android      jetfuelit_int      jetfuelit_int   \n",
      "game_name_0 2021-03-15  android      jetfuelit_int      jetfuelit_int   \n",
      "\n",
      "                 campaign       adgroup  installs       spend  revenue_0  \\\n",
      "game_name                                                                  \n",
      "game_name_0    campaign_0   adgroup_541         1    0.600000   0.000000   \n",
      "game_name_0    campaign_0  adgroup_2351         2    4.900000   0.000000   \n",
      "game_name_0    campaign_0   adgroup_636         3    7.350000   0.000000   \n",
      "game_name_0    campaign_0   adgroup_569         1    0.750000   0.000000   \n",
      "game_name_0    campaign_0   adgroup_243         2    3.440000   0.000000   \n",
      "game_name_0  campaign_283  adgroup_1685        11    0.000000   0.000000   \n",
      "game_name_0    campaign_2    adgroup_56        32   30.090000   0.000000   \n",
      "game_name_0  campaign_191          None       291  503.480011  34.701553   \n",
      "game_name_0    campaign_0   adgroup_190         4    2.740000   0.000000   \n",
      "game_name_0    campaign_0   adgroup_755         8   11.300000  13.976003   \n",
      "\n",
      "             revenue_1  ...  revenue_23  revenue_24  revenue_25  revenue_26  \\\n",
      "game_name               ...                                                   \n",
      "game_name_0   0.018173  ...    0.018173    0.018173    0.018173    0.018173   \n",
      "game_name_0   0.034000  ...    0.034000    6.034000    6.034000    6.034000   \n",
      "game_name_0   0.000000  ...   12.112897   12.112897   12.112897   12.112897   \n",
      "game_name_0   0.029673  ...    0.029673    0.029673    0.029673    0.029673   \n",
      "game_name_0   0.027981  ...    0.042155    0.042155    0.042155    0.042155   \n",
      "game_name_0   0.097342  ...    0.139581    0.139581    0.139581    0.139581   \n",
      "game_name_0   0.802349  ...    2.548253    2.548253    2.771138    2.805776   \n",
      "game_name_0  63.618111  ...  116.508331  117.334709  117.387489  117.509506   \n",
      "game_name_0   0.000000  ...    0.000000    0.000000    0.000000    0.000000   \n",
      "game_name_0  14.358793  ...   14.338905   14.338905   14.338905   14.338905   \n",
      "\n",
      "             revenue_27  revenue_28  revenue_29  revenue_30  revenue_60  \\\n",
      "game_name                                                                 \n",
      "game_name_0    0.018173    0.018173    0.018173    0.018173    0.018173   \n",
      "game_name_0    6.034000    6.034000    6.034000    6.034000    6.034000   \n",
      "game_name_0   12.112897   12.112897   12.112897   12.112897   12.112897   \n",
      "game_name_0    0.029673    0.029673    0.029673    0.029673    0.029673   \n",
      "game_name_0    0.042155    0.042155    0.042155    0.042155    0.042155   \n",
      "game_name_0    0.139581    0.139581    0.139581    0.139581    0.139581   \n",
      "game_name_0    2.805776    2.805776    2.805776    2.805776    2.805776   \n",
      "game_name_0  118.811417  118.760765  119.151291  119.350220  139.069443   \n",
      "game_name_0    0.000000    0.000000    0.000000    0.000000    0.000000   \n",
      "game_name_0   14.338905   14.338905   14.338905   14.338905   14.338905   \n",
      "\n",
      "             revenue_90  \n",
      "game_name                \n",
      "game_name_0    0.018173  \n",
      "game_name_0   13.030497  \n",
      "game_name_0   12.112897  \n",
      "game_name_0    0.029673  \n",
      "game_name_0    0.042155  \n",
      "game_name_0    0.139581  \n",
      "game_name_0    2.805776  \n",
      "game_name_0  147.528793  \n",
      "game_name_0    0.000000  \n",
      "game_name_0   14.338905  \n",
      "\n",
      "[10 rows x 41 columns]\n"
     ]
    }
   ],
   "source": [
    "# When the preprocessing is finished, you can run the following command to\n",
    "# display the head of the data to ensure everything is fine.\n",
    "print(data_source.head())"
   ]
  },
  {
   "cell_type": "markdown",
   "metadata": {},
   "source": [
    "### 2. Training"
   ]
  },
  {
   "cell_type": "code",
   "execution_count": null,
   "metadata": {},
   "outputs": [],
   "source": [
    "# Todo"
   ]
  }
 ],
 "metadata": {
  "kernelspec": {
   "display_name": "python3",
   "language": "python",
   "name": "python3"
  }
 },
 "nbformat": 4,
 "nbformat_minor": 1
}
