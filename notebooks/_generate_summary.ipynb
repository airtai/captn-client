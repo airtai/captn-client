{
 "cells": [
  {
   "cell_type": "raw",
   "metadata": {},
   "source": [
    "---\n",
    "{}\n",
    "\n",
    "---\n",
    "\n"
   ]
  },
  {
   "cell_type": "code",
   "execution_count": null,
   "id": "42dd2e88",
   "metadata": {},
   "outputs": [],
   "source": [
    "import importlib\n",
    "import pkgutil\n",
    "import shutil\n",
    "from pathlib import Path\n",
    "from typing import *"
   ]
  },
  {
   "cell_type": "code",
   "execution_count": null,
   "id": "3dcced0d",
   "metadata": {},
   "outputs": [
    {
     "data": {
      "text/plain": [
       "['__builtins__',\n",
       " '__cached__',\n",
       " '__doc__',\n",
       " '__file__',\n",
       " '__loader__',\n",
       " '__name__',\n",
       " '__package__',\n",
       " '__path__',\n",
       " '__spec__',\n",
       " '__version__']"
      ]
     },
     "execution_count": null,
     "metadata": {},
     "output_type": "execute_result"
    }
   ],
   "source": [
    "MODULE = \"captn\"\n",
    "\n",
    "client_module = importlib.import_module(f\"{MODULE}\")\n",
    "dir(client_module)"
   ]
  },
  {
   "cell_type": "code",
   "execution_count": null,
   "id": "763b982c",
   "metadata": {},
   "outputs": [
    {
     "name": "stdout",
     "output_type": "stream",
     "text": [
      "[INFO] captn.testing.activate_by_import: Testing environment activated.\n"
     ]
    },
    {
     "data": {
      "text/plain": [
       "['captn._nbdev',\n",
       " 'captn.cli',\n",
       " 'captn.cli.cli',\n",
       " 'captn.cli.db',\n",
       " 'captn.cli.ds',\n",
       " 'captn.cli.token',\n",
       " 'captn.cli.version',\n",
       " 'captn.cli.cli',\n",
       " 'captn.cli.db',\n",
       " 'captn.cli.ds',\n",
       " 'captn.cli.token',\n",
       " 'captn.cli.version',\n",
       " 'captn.client',\n",
       " 'captn.components',\n",
       " 'captn.components.client',\n",
       " 'captn.components.client',\n",
       " 'captn.helper',\n",
       " 'captn.logger',\n",
       " 'captn.testing',\n",
       " 'captn.testing.activate_by_import',\n",
       " 'captn.testing.activate_by_import']"
      ]
     },
     "execution_count": null,
     "metadata": {},
     "output_type": "execute_result"
    }
   ],
   "source": [
    "def list_submodules(package_name: str) -> List[str]:\n",
    "    def _list_submodules(list_name, package_name):\n",
    "        for loader, module_name, is_pkg in pkgutil.walk_packages(\n",
    "            package_name.__path__, package_name.__name__ + \".\"\n",
    "        ):\n",
    "            list_name.append(module_name)\n",
    "            module_name = __import__(module_name, fromlist=\"dummylist\")\n",
    "            if is_pkg:\n",
    "                _list_submodules(list_name, module_name)\n",
    "\n",
    "    all_modules = []\n",
    "    _list_submodules(all_modules, package_name)\n",
    "\n",
    "    return all_modules\n",
    "\n",
    "\n",
    "client_modules = list_submodules(client_module)\n",
    "client_modules"
   ]
  },
  {
   "cell_type": "code",
   "execution_count": null,
   "id": "99d5f07a",
   "metadata": {},
   "outputs": [
    {
     "data": {
      "text/plain": [
       "{'captn._nbdev': ['index', 'modules', 'custom_doc_links', 'git_url'],\n",
       " 'captn.cli.cli': ['app'],\n",
       " 'captn.cli.db': ['app'],\n",
       " 'captn.cli.ds': ['app'],\n",
       " 'captn.cli.token': ['logger'],\n",
       " 'captn.cli.version': ['logger'],\n",
       " 'captn.client': ['Client', 'DataBlob', 'DataSource'],\n",
       " 'captn.components.client': ['Client'],\n",
       " 'captn.helper': ['ensure_is_instance',\n",
       "  'get_base_url',\n",
       "  'post_data',\n",
       "  'get_data',\n",
       "  'delete_data'],\n",
       " 'captn.logger': ['supress_timestamps',\n",
       "  'get_logger',\n",
       "  'should_supress_timestamps',\n",
       "  'set_level'],\n",
       " 'captn.testing.activate_by_import': ['activated']}"
      ]
     },
     "execution_count": null,
     "metadata": {},
     "output_type": "execute_result"
    }
   ],
   "source": [
    "def get_exported_symbols(submodules: List[str]) -> Dict[str, List[str]]:\n",
    "    modules = {name: __import__(name, fromlist=\"dummylist\") for name in submodules}\n",
    "    return {\n",
    "        name: module.__all__\n",
    "        for name, module in modules.items()\n",
    "        if hasattr(module, \"__all__\")\n",
    "    }\n",
    "\n",
    "\n",
    "symbols = get_exported_symbols(client_modules)\n",
    "symbols"
   ]
  },
  {
   "cell_type": "code",
   "execution_count": null,
   "id": "596955e4",
   "metadata": {},
   "outputs": [
    {
     "data": {
      "text/plain": [
       "{'captn.client': ['Client', 'DataBlob', 'DataSource']}"
      ]
     },
     "execution_count": null,
     "metadata": {},
     "output_type": "execute_result"
    }
   ],
   "source": [
    "def filter_symbols(\n",
    "    symbols: Dict[str, List[str]], module_name: str\n",
    ") -> Dict[str, List[str]]:\n",
    "    return {k: v for k, v in symbols.items() if k == module_name}\n",
    "\n",
    "\n",
    "filter_symbols(symbols, f\"{MODULE}.client\")"
   ]
  },
  {
   "cell_type": "code",
   "execution_count": null,
   "id": "a94a6d40",
   "metadata": {},
   "outputs": [],
   "source": [
    "def write_md_files(fname: Path, s: str, m: str) -> None:\n",
    "    with open(fname, mode=\"w\") as f:\n",
    "        print(f\"Writing {fname}\")\n",
    "        f.write(f\"#{s}\\n::: {m}.{s}\\n\")"
   ]
  },
  {
   "cell_type": "code",
   "execution_count": null,
   "id": "5e2d999a",
   "metadata": {},
   "outputs": [],
   "source": [
    "def get_path(m: str, docs_path: Path) -> Tuple[str, Path]:\n",
    "    parts = m.split(\".\")[-1:]\n",
    "    path_link = \"API/\" + \"/\".join(parts)\n",
    "    path = docs_path / path_link\n",
    "\n",
    "    return path, path_link"
   ]
  },
  {
   "cell_type": "code",
   "execution_count": null,
   "id": "14dbcaa2",
   "metadata": {},
   "outputs": [],
   "source": [
    "def append_api_nav(summary: str, symbols: dict, docs_path: str, v: str) -> str:\n",
    "    symbols = filter_symbols(symbols, v)\n",
    "\n",
    "    for m, sx in symbols.items():\n",
    "        path, path_link = get_path(m, docs_path)\n",
    "        summary = summary + f\"    - {m}\\n\"\n",
    "        path.mkdir(exist_ok=True, parents=True)\n",
    "\n",
    "        for s in sx:\n",
    "            summary = summary + f\"        - [{s}]({path_link}/{s}.md)\\n\"\n",
    "            fname = path / (s + \".md\")\n",
    "            write_md_files(fname, s, m)\n",
    "\n",
    "    return summary"
   ]
  },
  {
   "cell_type": "code",
   "execution_count": null,
   "id": "1fa44353",
   "metadata": {},
   "outputs": [],
   "source": [
    "def append_cli_nav(\n",
    "    summary: str, symbols: dict, docs_path: Path, v: str, ignore_list: list\n",
    ") -> str:\n",
    "    keys = []\n",
    "\n",
    "    path, path_link = get_path(v, docs_path)\n",
    "\n",
    "    for m, sx in symbols.items():\n",
    "        if f\"{v}.\" in m:\n",
    "            sm = m.split(\".\")[2]\n",
    "            if sm not in ignore_list:\n",
    "                if \"_\" in sm:\n",
    "                    sm = sm.replace(\"_\", \"-\")\n",
    "                keys.append(sm)\n",
    "    for sm in keys:\n",
    "        #         folder_path = path / (sm)\n",
    "        #         folder_path.mkdir(exist_ok=True, parents=True)\n",
    "\n",
    "        summary = summary + f\"    - [{sm}]({path_link}/{sm}/app.md)\\n\"\n",
    "\n",
    "        fname = path / (sm + \"/app.md\")\n",
    "\n",
    "    return summary"
   ]
  },
  {
   "cell_type": "code",
   "execution_count": null,
   "id": "c63343a9",
   "metadata": {},
   "outputs": [
    {
     "name": "stdout",
     "output_type": "stream",
     "text": [
      "Writing ../docs/API/client/Client.md\n",
      "Writing ../docs/API/client/DataBlob.md\n",
      "Writing ../docs/API/client/DataSource.md\n",
      "\n",
      "- [Home](index.md)\n",
      "- [Tutorial](Tutorial.md)\n",
      "- API\n",
      "    - captn.client\n",
      "        - [Client](API/client/Client.md)\n",
      "        - [DataBlob](API/client/DataBlob.md)\n",
      "        - [DataSource](API/client/DataSource.md)\n",
      "- CLI\n",
      "    - [db](API/cli/db/app.md)\n",
      "    - [ds](API/cli/ds/app.md)\n",
      "    - [token](API/cli/token/app.md)\n",
      "    - [version](API/cli/version/app.md)\n",
      "- [Releases](RELEASE.md)\n"
     ]
    }
   ],
   "source": [
    "_summary = \"\"\"\n",
    "- [Home](index.md)\n",
    "- [Tutorial](Tutorial.md)\n",
    "\"\"\"\n",
    "\n",
    "\n",
    "def build_api(module, summary: str = _summary, docs_path: str = \"../docs\"):\n",
    "    api_modules = {\"API\": f\"{MODULE}.client\"}\n",
    "\n",
    "    cli_modules = {\"CLI\": f\"{MODULE}.cli\"}\n",
    "    ignore_list = [\"cli\", \"logger\", \"helper\"]\n",
    "\n",
    "    submodules = list_submodules(module)\n",
    "    symbols = get_exported_symbols(submodules)\n",
    "\n",
    "    docs_path = Path(docs_path)\n",
    "    assert docs_path.exists()\n",
    "    shutil.rmtree(docs_path / \"API\", ignore_errors=True)\n",
    "\n",
    "    for k, v in api_modules.items():\n",
    "        summary = summary + f\"- {k}\\n\"\n",
    "        summary = append_api_nav(summary, symbols, docs_path, v)\n",
    "\n",
    "    for k, v in cli_modules.items():\n",
    "        summary = summary + f\"- {k}\\n\"\n",
    "        summary = append_cli_nav(summary, symbols, docs_path, v, ignore_list)\n",
    "\n",
    "    summary = summary + \"- [Releases](RELEASE.md)\"\n",
    "\n",
    "    with open(docs_path / \"SUMMARY.md\", mode=\"w\") as f:\n",
    "        f.write(summary)\n",
    "\n",
    "    return summary\n",
    "\n",
    "\n",
    "print(build_api(client_module))"
   ]
  },
  {
   "cell_type": "code",
   "execution_count": null,
   "id": "f49b4d7e",
   "metadata": {},
   "outputs": [],
   "source": []
  }
 ],
 "metadata": {
  "kernelspec": {
   "display_name": "python3",
   "language": "python",
   "name": "python3"
  }
 },
 "nbformat": 4,
 "nbformat_minor": 5
}
