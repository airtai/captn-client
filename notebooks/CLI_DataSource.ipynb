{
 "cells": [
  {
   "cell_type": "raw",
   "metadata": {},
   "source": [
    "---\n",
    "description: This module encapsulates a CLI interface for all the classes conncted\n",
    "  to the API service.\n",
    "output-file: cli_datasource.html\n",
    "title: CLI_DataSource\n",
    "\n",
    "---\n",
    "\n"
   ]
  },
  {
   "cell_type": "code",
   "execution_count": null,
   "metadata": {},
   "outputs": [],
   "source": [
    "#| default_exp cli.ds"
   ]
  },
  {
   "cell_type": "code",
   "execution_count": null,
   "metadata": {},
   "outputs": [],
   "source": [
    "from captn.testing import activate_by_import "
   ]
  },
  {
   "cell_type": "code",
   "execution_count": null,
   "metadata": {},
   "outputs": [],
   "source": [
    "#| export\n",
    "\n",
    "import airt\n",
    "from captn.client import _fix_cli_doc_string"
   ]
  },
  {
   "cell_type": "code",
   "execution_count": null,
   "metadata": {},
   "outputs": [],
   "source": [
    "#| export\n",
    "\n",
    "from airt.cli.ds import app as _app\n",
    "app = _app\n",
    "\n",
    "_fix_cli_doc_string(app, \"ds\")"
   ]
  },
  {
   "cell_type": "code",
   "execution_count": null,
   "metadata": {},
   "outputs": [],
   "source": [
    "from typer.testing import CliRunner\n",
    "\n",
    "from airt.sanitizer import sanitized_print"
   ]
  },
  {
   "cell_type": "code",
   "execution_count": null,
   "metadata": {},
   "outputs": [
    {
     "name": "stdout",
     "output_type": "stream",
     "text": [
      "Usage: root dtypes [OPTIONS] UUID\n",
      "\n",
      "  Return the dtypes of the datasource.\n",
      "\n",
      "Arguments:\n",
      "  UUID  Datasource uuid.  [required]\n",
      "\n",
      "Options:\n",
      "  -d, --debug  Set logger level to DEBUG and output everything.\n",
      "  --help       Show this message and exit.\n",
      "\n",
      "Usage: root head [OPTIONS] UUID\n",
      "\n",
      "  Return the first few rows of the datasource.\n",
      "\n",
      "Arguments:\n",
      "  UUID  Datasource uuid.  [required]\n",
      "\n",
      "Options:\n",
      "  -f, --format TEXT  Format output and show only the given column(s) values.\n",
      "  -d, --debug        Set logger level to DEBUG and output everything.\n",
      "  --help             Show this message and exit.\n",
      "\n",
      "Usage: root ls [OPTIONS]\n",
      "\n",
      "  Return the list of datasources.\n",
      "\n",
      "Options:\n",
      "  -o, --offset INTEGER  The number of datasources to offset at the beginning. If\n",
      "                        **None**, then the default value **0** will be used.\n",
      "                        [default: 0]\n",
      "  -l, --limit INTEGER   The maximum number of datasources to return from the\n",
      "                        server. If **None**, then the default value **100** will\n",
      "                        be used.  [default: 100]\n",
      "  --disabled            If set to **True**, then only the deleted datasources\n",
      "                        will be returned.Else, the default value **False** will\n",
      "                        be used to return only the listof active datasources.\n",
      "  --completed           If set to **True**, then only the datasources that are\n",
      "                        successfully downloadedto the server will be returned.\n",
      "                        Else, the default value **False** will be used toreturn\n",
      "                        all the datasources.\n",
      "  -f, --format TEXT     Format output and show only the given column(s) values.\n",
      "  -q, --quiet           Output only datasource uuids separated by space\n",
      "  -d, --debug           Set logger level to DEBUG and output everything.\n",
      "  --help                Show this message and exit.\n",
      "\n",
      "Usage: root train [OPTIONS]\n",
      "\n",
      "  Train a model against the datasource.\n",
      "\n",
      "Options:\n",
      "  -uuid, --datasource_uuid TEXT  Datasource uuid.  [required]\n",
      "  --client_column TEXT           The column name that uniquely identifies the\n",
      "                                 users/clients.  [required]\n",
      "  --timestamp_column TEXT        The timestamp column indicating the time of an\n",
      "                                 event. If not passed, then the default value\n",
      "                                 **None** will be used.\n",
      "  --target_column TEXT           Target column name that indicates the type of\n",
      "                                 the event.  [required]\n",
      "  --target TEXT                  Target event name to train and make\n",
      "                                 predictions. You can pass the target event as a\n",
      "                                 string or as a regular expression for\n",
      "                                 predicting more than one event. For example,\n",
      "                                 passing ***checkout** will train a model to\n",
      "                                 predict any checkout event.  [required]\n",
      "  --predict_after TEXT           Time delta in hours of the expected target\n",
      "                                 event.  [required]\n",
      "  -q, --quiet                    Output model uuid only.\n",
      "  -d, --debug                    Set logger level to DEBUG and output\n",
      "                                 everything.\n",
      "  --help                         Show this message and exit.\n",
      "\n",
      "Usage: root details [OPTIONS] UUID\n",
      "\n",
      "  Return details of a datasource.\n",
      "\n",
      "Arguments:\n",
      "  UUID  Datasource uuid.  [required]\n",
      "\n",
      "Options:\n",
      "  -f, --format TEXT  Format output and show only the given column(s) values.\n",
      "  -d, --debug        Set logger level to DEBUG and output everything.\n",
      "  --help             Show this message and exit.\n",
      "\n",
      "Usage: root rm [OPTIONS] UUID\n",
      "\n",
      "  Delete a datasource from the server.\n",
      "\n",
      "Arguments:\n",
      "  UUID  Datasource uuid.  [required]\n",
      "\n",
      "Options:\n",
      "  -f, --format TEXT  Format output and show only the given column(s) values.\n",
      "  -q, --quiet        Output the deleted datasource uuid only.\n",
      "  -d, --debug        Set logger level to DEBUG and output everything.\n",
      "  --help             Show this message and exit.\n",
      "\n",
      "Usage: root tag [OPTIONS]\n",
      "\n",
      "  Tag an existing datasource in server.\n",
      "\n",
      "Options:\n",
      "  -uuid, --datasource_uuid TEXT  Datasource uuid.  [required]\n",
      "  -n, --name TEXT                A string to tag the datasource.  [required]\n",
      "  -f, --format TEXT              Format output and show only the given column(s)\n",
      "                                 values.\n",
      "  -d, --debug                    Set logger level to DEBUG and output\n",
      "                                 everything.\n",
      "  --help                         Show this message and exit.\n",
      "\n"
     ]
    }
   ],
   "source": [
    "\n",
    "runner = CliRunner()\n",
    "\n",
    "for c in app.registered_commands:\n",
    "    name = c.callback.__name__.replace(\"_\", \"-\")\n",
    "    result = runner.invoke(app, [name] + [\"--help\"])\n",
    "\n",
    "    sanitized_print(str(result.stdout))\n",
    "\n",
    "    assert \"AIRT_\" not in str(result.stdout)\n",
    "    assert \"airt\" not in str(result.stdout)"
   ]
  }
 ],
 "metadata": {
  "kernelspec": {
   "display_name": "Python 3",
   "language": "python",
   "name": "python3"
  }
 },
 "nbformat": 4,
 "nbformat_minor": 2
}
